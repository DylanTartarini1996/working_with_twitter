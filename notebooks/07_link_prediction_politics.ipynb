{
 "cells": [
  {
   "cell_type": "code",
   "execution_count": null,
   "metadata": {},
   "outputs": [],
   "source": [
    "import tweepy\n",
    "import numpy as np\n",
    "import pandas as pd\n",
    "import networkx as nx\n",
    "from sklearn.model_selection import train_test_split\n",
    "from stellargraph.data import EdgeSplitter\n",
    "from stellargraph import StellarGraph\n",
    "import matplotlib.pyplot as plt\n",
    "from node2vec import Node2Vec\n"
   ]
  },
  {
   "cell_type": "code",
   "execution_count": null,
   "metadata": {},
   "outputs": [],
   "source": [
    "def draw_graph(G, pos_nodes, relevant_nodes=[], node_size=3, relevant_node_size=100):\n",
    "    \"\"\"\n",
    "        Draws a Graph and highlights relevant nodes in it.\n",
    "\n",
    "    :param G: graph data;\n",
    "    :param pos_nodes: nodes position in graph (layout);\n",
    "    :param list relevant_nodes: relevant nodes to highlight in the network, default to an empty list;\n",
    "    :param float node_size: size of every node in the network, default to 50 but can also be a list;\n",
    "    :param float relevant_node_size: size of nodes to highlight in the network, defaults to 100 but can also be a list.\n",
    "    \n",
    "    \"\"\"\n",
    "    node_labels = {}\n",
    "    for node in G.nodes():\n",
    "        if node in relevant_nodes:\n",
    "            #set the node name as the key and the label as its value \n",
    "            node_labels[node] = node\n",
    "    plt.figure(figsize=(12, 9))\n",
    "    # set the argument 'with labels' to False so you have unlabeled graph\n",
    "    nx.draw(G, pos_nodes, with_labels=False, node_size=node_size, edge_color='grey')\n",
    "    # draw relevant nodes\n",
    "    nx.draw_networkx_nodes(G, pos_nodes, nodelist=relevant_nodes, node_size=relevant_node_size, node_color='r', alpha=0.5)\n",
    "    # only add labels to the nodes you require\n",
    "    nx.draw_networkx_labels(G, pos_nodes, node_labels, font_size=16, font_color='r', font_weight='bold')\n",
    "    pos_attrs = {}\n",
    "    for node, coords in pos_nodes.items():\n",
    "        pos_attrs[node] = (coords[0], coords[1] + 0.08)\n",
    "    \n",
    "    plt.axis('off')\n",
    "    axis = plt.gca()\n",
    "    axis.set_xlim([1.2*x for x in axis.get_xlim()])\n",
    "    axis.set_ylim([1.2*y for y in axis.get_ylim()])"
   ]
  }
 ],
 "metadata": {
  "kernelspec": {
   "display_name": "Python 3.9.7 64-bit",
   "language": "python",
   "name": "python3"
  },
  "language_info": {
   "name": "python",
   "version": "3.9.7"
  },
  "orig_nbformat": 4,
  "vscode": {
   "interpreter": {
    "hash": "c48e784580535a0043e835f347c242c3ba8d520cc19d6dd73066c5c113ac8a1a"
   }
  }
 },
 "nbformat": 4,
 "nbformat_minor": 2
}
