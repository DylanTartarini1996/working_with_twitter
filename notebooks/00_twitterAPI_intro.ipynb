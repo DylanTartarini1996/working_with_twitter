{
 "cells": [
  {
   "cell_type": "markdown",
   "metadata": {},
   "source": [
    "## Downloading Twitter Data from Twitter Developers API  \n",
    "\n",
    "This Jupyter Notebook aims to give the reader a brief overview of the Twitter Developers API and how to retrieve tweets and trending topics information from it. Some data visualization will be thrown in as well. The Notebook is organized as follows:  \n",
    " \n",
    "1. How to get a **Twitter Developers Account**;\n",
    "2. Authentication and the **tweepy** library;\n",
    "3. Retrieving tweets from a specific **user**;\n",
    "4. Obtaining tweets given a **keyword** or **hashtag**;\n",
    "5. Retrieving trending topics in a set **region or area**;\n",
    "6. Getting past tweet limit using **Cursor**."
   ]
  },
  {
   "cell_type": "code",
   "execution_count": 31,
   "metadata": {},
   "outputs": [],
   "source": [
    "import tweepy\n",
    "import pandas as pd\n",
    "import numpy as np\n",
    "import matplotlib.pyplot as plt\n",
    "import seaborn as sns\n",
    "import nltk\n",
    "import re\n",
    "import string\n",
    "import spacy\n",
    "from sklearn.feature_extraction.text import CountVectorizer\n",
    "from nltk.stem.snowball import SnowballStemmer\n",
    "\n",
    "sns.set_theme(style='whitegrid')"
   ]
  },
  {
   "cell_type": "markdown",
   "metadata": {},
   "source": [
    "Importing libraries"
   ]
  },
  {
   "cell_type": "markdown",
   "metadata": {},
   "source": [
    "## 1. How to get a Twitter Developers Account\n",
    "\n",
    "First, we need to get a Developers Account from Twitter. To do so, click on the following [link](https://developer.twitter.com) and apply for free. You will only need to provide some information about the research you plan on pursuing (learning how to use the API is a valid answer).  \n",
    "Once you have an approved Developers Account: \n",
    "1. Create a project and connect an App through the Developer Portal;\n",
    "2. Go to the Developer Portal dashboard;\n",
    "3. Sign in with your developer account;\n",
    "4. Create a new project, give it a name, a use-case based on the goal you want to achieve, and a description.\n",
    "\n",
    "If everything goes as planned, you will be able to see the page containing your **keys** and **tokens**, that you need to access the API."
   ]
  },
  {
   "cell_type": "markdown",
   "metadata": {},
   "source": [
    "## 2. Authentication and the tweepy library  \n",
    "\n",
    "The [tweepy](https://docs.tweepy.org/en/stable/install.html) library allows you to interact with the Twitter API directly from Python. It has a few authentication methods, and it is reccomended to check the library's documentation to devide which one is best for your use case. I will be using the **OAuth Method**.\n",
    "\n",
    "OAuth is a method of authentification where the application makes API requests without the user context. Use this if you just need read-only access to publicly available information.\n",
    "First, you register the client application and acquire a **consumer key** and **secret**. Then, create an *AppAuthHandler* instance, passing in consumer key and secret.\n"
   ]
  },
  {
   "cell_type": "code",
   "execution_count": 32,
   "metadata": {},
   "outputs": [],
   "source": [
    "# Authentication \n",
    "\n",
    "apiKey = 'xxx'\n",
    "apiSecret = 'xxx'\n",
    "accessToken = 'xxx'\n",
    "accessTokenSecret = 'xxx'\n",
    "\n",
    "auth = tweepy.OAuthHandler(apiKey, apiSecret)\n",
    "auth.set_access_token(accessToken, accessTokenSecret)\n",
    "api = tweepy.API(auth)"
   ]
  },
  {
   "cell_type": "markdown",
   "metadata": {},
   "source": [
    "## 3. Retrieving tweets from a specific user\n",
    "The standard for getting tweets from a user is *tweepy.API.user_timeline()* which, if not else stated, gets you the last tweets from one user; the parameters of this call allows you to:\n",
    "* select **number of tweets** you want to obtain, up to 200 (*count=*);\n",
    "* include/exclude **replies** (*exclude_replies=*);\n",
    "* include/exclude **retweets** (*include_rts=*).  \n",
    "\n",
    "Remember that Twitter API by default only retrieves the *truncated* text of tweets: if what interests you is the **full text** you have to specify this by using (*tweet_mode='extended'*).\n",
    "\n",
    "Here, I am requesting tweets from Joe Biden's presidential account (POTUS) for demonstration purposes."
   ]
  },
  {
   "cell_type": "code",
   "execution_count": 33,
   "metadata": {},
   "outputs": [
    {
     "name": "stdout",
     "output_type": "stream",
     "text": [
      "I made clear that Russia would pay a severe and immediate price for its atrocities in Bucha. Today, along with our Allies and partners, we’re announcing a new round of devastating sanctions. https://t.co/LVqTDIOSvz\n",
      "Today, my Administration is extending the pause on federal student loan repayments through August 31st, 2022. https://t.co/xwicA1hCW3\n"
     ]
    }
   ],
   "source": [
    "# reading tweets from a user\n",
    "user = 'POTUS'\n",
    "lim = 200   # max = 200 when searching from a user\n",
    "\n",
    "tweets_user = api.user_timeline(screen_name=user, count=lim, tweet_mode='extended') # by default tweets are truncated\n",
    "for tweet in tweets_user[0:2]:\n",
    "    print(tweet.full_text)"
   ]
  },
  {
   "cell_type": "markdown",
   "metadata": {},
   "source": [
    "Now, printing the full text is probably not what you want. We now create a dataframe from the retrieved information, displaying informations such as the date the tweet was posted, the number of likes (which in Twitter are called \"favourites\"), the number of retweets and, whether the post was a retweet or not and whether it was a response to someone else's tweet.\n",
    "\n",
    "The request result is in json format, and many more informations can be extracted from it: for a full review, see the [documentation](https://developer.twitter.com/en/docs/twitter-api/v1/tweets/timelines/api-reference/get-statuses-user_timeline)."
   ]
  },
  {
   "cell_type": "code",
   "execution_count": 34,
   "metadata": {},
   "outputs": [
    {
     "data": {
      "text/html": [
       "<div>\n",
       "<style scoped>\n",
       "    .dataframe tbody tr th:only-of-type {\n",
       "        vertical-align: middle;\n",
       "    }\n",
       "\n",
       "    .dataframe tbody tr th {\n",
       "        vertical-align: top;\n",
       "    }\n",
       "\n",
       "    .dataframe thead th {\n",
       "        text-align: right;\n",
       "    }\n",
       "</style>\n",
       "<table border=\"1\" class=\"dataframe\">\n",
       "  <thead>\n",
       "    <tr style=\"text-align: right;\">\n",
       "      <th></th>\n",
       "      <th>User</th>\n",
       "      <th>Tweet</th>\n",
       "      <th>Date_Posted</th>\n",
       "      <th>Favourite_Count</th>\n",
       "      <th>Retweet_Count</th>\n",
       "      <th>Reply_To</th>\n",
       "    </tr>\n",
       "  </thead>\n",
       "  <tbody>\n",
       "    <tr>\n",
       "      <th>0</th>\n",
       "      <td>POTUS</td>\n",
       "      <td>I made clear that Russia would pay a severe an...</td>\n",
       "      <td>2022-04-06 14:40:24+00:00</td>\n",
       "      <td>1525</td>\n",
       "      <td>373</td>\n",
       "      <td>None</td>\n",
       "    </tr>\n",
       "    <tr>\n",
       "      <th>1</th>\n",
       "      <td>POTUS</td>\n",
       "      <td>Today, my Administration is extending the paus...</td>\n",
       "      <td>2022-04-06 14:02:25+00:00</td>\n",
       "      <td>6429</td>\n",
       "      <td>1150</td>\n",
       "      <td>None</td>\n",
       "    </tr>\n",
       "    <tr>\n",
       "      <th>2</th>\n",
       "      <td>POTUS</td>\n",
       "      <td>Twelve years ago, I had the honor of being gif...</td>\n",
       "      <td>2022-04-06 00:08:36+00:00</td>\n",
       "      <td>21408</td>\n",
       "      <td>2561</td>\n",
       "      <td>None</td>\n",
       "    </tr>\n",
       "    <tr>\n",
       "      <th>3</th>\n",
       "      <td>POTUS</td>\n",
       "      <td>Once today’s proposed rule is finalized, start...</td>\n",
       "      <td>2022-04-05 23:20:27+00:00</td>\n",
       "      <td>4224</td>\n",
       "      <td>624</td>\n",
       "      <td>POTUS</td>\n",
       "    </tr>\n",
       "    <tr>\n",
       "      <th>4</th>\n",
       "      <td>POTUS</td>\n",
       "      <td>Here's the problem: Under the current rules, a...</td>\n",
       "      <td>2022-04-05 23:20:27+00:00</td>\n",
       "      <td>4866</td>\n",
       "      <td>665</td>\n",
       "      <td>POTUS</td>\n",
       "    </tr>\n",
       "  </tbody>\n",
       "</table>\n",
       "</div>"
      ],
      "text/plain": [
       "    User                                              Tweet  \\\n",
       "0  POTUS  I made clear that Russia would pay a severe an...   \n",
       "1  POTUS  Today, my Administration is extending the paus...   \n",
       "2  POTUS  Twelve years ago, I had the honor of being gif...   \n",
       "3  POTUS  Once today’s proposed rule is finalized, start...   \n",
       "4  POTUS  Here's the problem: Under the current rules, a...   \n",
       "\n",
       "                Date_Posted  Favourite_Count  Retweet_Count Reply_To  \n",
       "0 2022-04-06 14:40:24+00:00             1525            373     None  \n",
       "1 2022-04-06 14:02:25+00:00             6429           1150     None  \n",
       "2 2022-04-06 00:08:36+00:00            21408           2561     None  \n",
       "3 2022-04-05 23:20:27+00:00             4224            624    POTUS  \n",
       "4 2022-04-05 23:20:27+00:00             4866            665    POTUS  "
      ]
     },
     "execution_count": 34,
     "metadata": {},
     "output_type": "execute_result"
    }
   ],
   "source": [
    "# create dataframe\n",
    "\n",
    "columns = ['User', 'Tweet', 'Date_Posted', 'Favourite_Count', 'Retweet_Count', 'Reply_To']\n",
    "\n",
    "data = []\n",
    "\n",
    "for tweet in tweets_user:\n",
    "    data.append([tweet.user.screen_name, tweet.full_text, tweet.created_at, tweet.favorite_count, tweet.retweet_count, tweet.in_reply_to_screen_name])\n",
    "\n",
    "user_tweets_df = pd.DataFrame(data, columns=columns)\n",
    "\n",
    "user_tweets_df.head()"
   ]
  },
  {
   "cell_type": "markdown",
   "metadata": {},
   "source": [
    "Retrieving tweets from a user can seem like a trivial exercise at first, but it might be a useful method to understand said person.  \n",
    "For example, we could visualize which are the **most frequent words** our user has used, or we could employ some **topic modelling** algorithm or **n-grams** wordcounts to understand what the user has recently communicated about."
   ]
  },
  {
   "cell_type": "code",
   "execution_count": 35,
   "metadata": {},
   "outputs": [],
   "source": [
    "nlp = spacy.load('en_core_web_sm')\n",
    "\n",
    "# Set the stop_word tag on the lexeme\n",
    "stopwords = nlp.Defaults.stop_words\n",
    "\n",
    "# The Snowball Stemmer requires that you pass a language parameter\n",
    "s_stemmer = SnowballStemmer(language='english')\n",
    "\n",
    "def clean_text(text):\n",
    "\n",
    "    text_lc = \"\".join([word.lower() for word in text if word not in string.punctuation]) # remove puntuation\n",
    "    text_rc = re.sub('[0-9]+', '', text_lc)\n",
    "    tokens = re.split('\\W+', text_rc)    # tokenization\n",
    "    text = [s_stemmer.stem(word) for word in tokens if word not in stopwords]  # remove stopwords and stemming\n",
    "    \n",
    "    return text"
   ]
  },
  {
   "cell_type": "code",
   "execution_count": 36,
   "metadata": {},
   "outputs": [],
   "source": [
    "def plot_most_freq_words(data):\n",
    "\n",
    "    ### plots the 10 most frequent words in a df of tweets\n",
    "    ### makes use of the clean_text() function before actually counting vectors\n",
    "    countVectorizer = CountVectorizer(analyzer=clean_text) \n",
    "    countVector = countVectorizer.fit_transform(data['Tweet'])\n",
    "\n",
    "    count_vect_df = pd.DataFrame(countVector.toarray(), columns=countVectorizer.get_feature_names_out())\n",
    "    count_vect_df.head()\n",
    "\n",
    "    count = pd.DataFrame(count_vect_df.sum())\n",
    "    countdf = count.sort_values(0,ascending=False).head(20)\n",
    "    countdf.rename(columns={0:'WordCount'}, inplace=True)\n",
    "    countdf = countdf[2:12]\n",
    "\n",
    "    ax = sns.barplot(y='WordCount',x=countdf.index, data=countdf, palette=\"Blues_d\").set(title=(str('Most frequent words by '+user)))"
   ]
  },
  {
   "cell_type": "code",
   "execution_count": 37,
   "metadata": {},
   "outputs": [
    {
     "data": {
      "image/png": "[encoded data removed]",
      "text/plain": [
       "<Figure size 432x288 with 1 Axes>"
      ]
     },
     "metadata": {},
     "output_type": "display_data"
    }
   ],
   "source": [
    "plot_most_freq_words(user_tweets_df)"
   ]
  },
  {
   "cell_type": "markdown",
   "metadata": {},
   "source": [
    "## 4. Obtaining tweets given a keyword or hashtag  \n",
    "\n",
    "The call *tweepy.API.search_tweets()* returns a collection of relevant tweets matching a specific **query** (q).  \n",
    "\n",
    "Please note that Twitter's search service and, by extension, the Search API is not meant to be an exhaustive source of Tweets. Not all Tweets will be indexed or made available via the search interface. To learn how to use Twitter Search effectively, see the Standard search operators page for a list of available filter operators. Also, see the page https://developer.twitter.com/en/docs/twitter-api/v1/tweets/timelines/guides/working-with-timelines to learn best practices for navigating results.  \n",
    "\n",
    "The *maximum limit* for the *search_tweets* call is 100 and the parameters in this call allows you to:\n",
    "* returning tweets by users located within a given radius of the given **latitude/longitude** (*geocode=(latitude, longitude, radius)*);\n",
    "* restricting tweets to the given **language**, given by ISO 639-1 code (*lang=*);\n",
    "* the **number** of tweets to return, up to 100 (*count=*);\n",
    "* returning tweets created **before a given date** (*until=YYYY-MM-DD*); keep in mind that search limit is 7 days;\n",
    "* specify the **type of results** obtained in the response (*result_type=*)\n",
    "    * *mixed*: include both popular and real time results;\n",
    "    * *recent*: return only most recent results;\n",
    "    * *popular*: return only the most popular results.\n",
    "\n",
    "Once again, many more parameters for your research can be found in the [documentation](https://developer.twitter.com/en/docs/twitter-api/v1/tweets/search/api-reference/get-search-tweets)\n"
   ]
  },
  {
   "cell_type": "code",
   "execution_count": 38,
   "metadata": {},
   "outputs": [
    {
     "data": {
      "text/html": [
       "<div>\n",
       "<style scoped>\n",
       "    .dataframe tbody tr th:only-of-type {\n",
       "        vertical-align: middle;\n",
       "    }\n",
       "\n",
       "    .dataframe tbody tr th {\n",
       "        vertical-align: top;\n",
       "    }\n",
       "\n",
       "    .dataframe thead th {\n",
       "        text-align: right;\n",
       "    }\n",
       "</style>\n",
       "<table border=\"1\" class=\"dataframe\">\n",
       "  <thead>\n",
       "    <tr style=\"text-align: right;\">\n",
       "      <th></th>\n",
       "      <th>User</th>\n",
       "      <th>Tweet</th>\n",
       "      <th>Date_Posted</th>\n",
       "      <th>Favourite_Count</th>\n",
       "      <th>Retweet_Count</th>\n",
       "      <th>Reply_To</th>\n",
       "    </tr>\n",
       "  </thead>\n",
       "  <tbody>\n",
       "    <tr>\n",
       "      <th>0</th>\n",
       "      <td>RNCResearch</td>\n",
       "      <td>Literally no one wants to talk to Joe Biden ht...</td>\n",
       "      <td>2022-04-05 18:27:20+00:00</td>\n",
       "      <td>37717</td>\n",
       "      <td>9473</td>\n",
       "      <td>None</td>\n",
       "    </tr>\n",
       "    <tr>\n",
       "      <th>1</th>\n",
       "      <td>CarlaHSands</td>\n",
       "      <td>Elon Musk has done more to advance freedom in ...</td>\n",
       "      <td>2022-04-05 12:44:52+00:00</td>\n",
       "      <td>114827</td>\n",
       "      <td>15810</td>\n",
       "      <td>None</td>\n",
       "    </tr>\n",
       "    <tr>\n",
       "      <th>2</th>\n",
       "      <td>greg_price11</td>\n",
       "      <td>Mitt Romney's last few weeks:\\n\\n- Confirmed K...</td>\n",
       "      <td>2022-04-05 00:36:39+00:00</td>\n",
       "      <td>19007</td>\n",
       "      <td>5671</td>\n",
       "      <td>None</td>\n",
       "    </tr>\n",
       "    <tr>\n",
       "      <th>3</th>\n",
       "      <td>HowardB19550618</td>\n",
       "      <td>RT @kylegriffin1: NBC News: The Biden admin pl...</td>\n",
       "      <td>2022-04-06 14:49:19+00:00</td>\n",
       "      <td>0</td>\n",
       "      <td>253</td>\n",
       "      <td>None</td>\n",
       "    </tr>\n",
       "    <tr>\n",
       "      <th>4</th>\n",
       "      <td>dgilliam147</td>\n",
       "      <td>RT @OccupyDemocrats: BREAKING: Trumper Lindsey...</td>\n",
       "      <td>2022-04-06 14:49:19+00:00</td>\n",
       "      <td>0</td>\n",
       "      <td>8163</td>\n",
       "      <td>None</td>\n",
       "    </tr>\n",
       "  </tbody>\n",
       "</table>\n",
       "</div>"
      ],
      "text/plain": [
       "              User                                              Tweet  \\\n",
       "0      RNCResearch  Literally no one wants to talk to Joe Biden ht...   \n",
       "1      CarlaHSands  Elon Musk has done more to advance freedom in ...   \n",
       "2     greg_price11  Mitt Romney's last few weeks:\\n\\n- Confirmed K...   \n",
       "3  HowardB19550618  RT @kylegriffin1: NBC News: The Biden admin pl...   \n",
       "4      dgilliam147  RT @OccupyDemocrats: BREAKING: Trumper Lindsey...   \n",
       "\n",
       "                Date_Posted  Favourite_Count  Retweet_Count Reply_To  \n",
       "0 2022-04-05 18:27:20+00:00            37717           9473     None  \n",
       "1 2022-04-05 12:44:52+00:00           114827          15810     None  \n",
       "2 2022-04-05 00:36:39+00:00            19007           5671     None  \n",
       "3 2022-04-06 14:49:19+00:00                0            253     None  \n",
       "4 2022-04-06 14:49:19+00:00                0           8163     None  "
      ]
     },
     "execution_count": 38,
     "metadata": {},
     "output_type": "execute_result"
    }
   ],
   "source": [
    "# here the maximum limit for searching is 100 at a time..\n",
    "\n",
    "keyword = 'biden' # enter keyword / hashtag(#) / user (@) to search  \n",
    "noOfTweet = 100 # enter number of tweets wanted\n",
    "\n",
    "tweets_kw = api.search_tweets(q=keyword, count=noOfTweet, lang='en',result_type='mixed',tweet_mode='extended')\n",
    "\n",
    "columns = ['User', 'Tweet', 'Date_Posted', 'Favourite_Count', 'Retweet_Count', 'Reply_To']\n",
    "\n",
    "data = []\n",
    "\n",
    "for tweet in tweets_kw:\n",
    "    data.append([tweet.user.screen_name, tweet.full_text, tweet.created_at, tweet.favorite_count,tweet.retweet_count, tweet.in_reply_to_screen_name])\n",
    "\n",
    "kw_tweets_df = pd.DataFrame(data, columns=columns)\n",
    "\n",
    "kw_tweets_df.head()"
   ]
  },
  {
   "cell_type": "markdown",
   "metadata": {},
   "source": [
    "## 5. Retrieving trending topics in a set region or area;\n",
    "\n",
    "To get trending topics **in a specific location** the *tweepy.API.get_place_trends*, which returns the **50 most recent trending topics**, is available. The call *api.available_trends()* shows **all** the ids for which trends are **available** on Twitter, while the call *api.closest_trends(lat=, long=)* shows which is the WOEID with available trends **nearest** to the indicated position (latitude and longitude). \n",
    "\n",
    "Note that for the purpose of setting the location you need to use the *id* parameter, which corresponds to the \"**Where On Earth Identifier**\" ([WOEID](https://woeplanet.org/id/23424853/)).  \n",
    "\n",
    "The *created_at* field will show when the oldest trend started trending. The *as_of* field contains the timestamp of when the list of trends was created. The **tweet_volume** for the last 24 hours is also returned for each trend if available. It is possible to use *exclude* to leave out hashtags from the result."
   ]
  },
  {
   "cell_type": "code",
   "execution_count": 39,
   "metadata": {},
   "outputs": [
    {
     "name": "stdout",
     "output_type": "stream",
     "text": [
      "The top trends for Italy are:\n",
      "#uominiedonne\n",
      "Riccardo\n",
      "#MultiverseOfMadness\n",
      "#CarbonaraDay\n",
      "#DoctorStrange\n",
      "Pinuccia\n",
      "#cinesantori\n",
      "Tina\n",
      "Donato\n",
      "Borsellino\n",
      "Picierno\n",
      "Lukaku\n",
      "Veronica\n",
      "Gloria\n",
      "Armando\n",
      "Pirlo\n",
      "Chelsea\n",
      "Lakers\n",
      "Toni Capuozzo\n",
      "#MoonKnight\n",
      "#oche\n",
      "#ScarletWitch\n",
      "#6aprile\n",
      "#sardine\n",
      "#ParmaComo\n",
      "#FamilyAct\n",
      "#terremoto\n",
      "#summertime\n",
      "#Paragone\n",
      "#LouisTomlinsonWorldTour2022\n",
      "#Osimhen\n",
      "#Zaniolo\n",
      "#braveandbeautiful\n",
      "#laquila\n",
      "#ijf22\n",
      "#CriminiDiGuerra\n",
      "#lariachetira\n"
     ]
    }
   ],
   "source": [
    "# WOEID of Italy\n",
    "loc = 'Italy'\n",
    "woeid = 23424853\n",
    " \n",
    "# fetching the trends\n",
    "trends = api.get_place_trends(id = woeid)\n",
    " \n",
    "# printing the information\n",
    "print('The top trends for', loc, 'are:')\n",
    "\n",
    "for value in trends:\n",
    "    for trend in value['trends']:\n",
    "        print(trend['name'])"
   ]
  },
  {
   "cell_type": "markdown",
   "metadata": {},
   "source": [
    "Note that trends is a **dictionary inside a list of length 1**. Treat it like trends[0]['trends'] and so on to get specific values"
   ]
  },
  {
   "cell_type": "code",
   "execution_count": 40,
   "metadata": {},
   "outputs": [
    {
     "data": {
      "text/plain": [
       "'#uominiedonne'"
      ]
     },
     "execution_count": 40,
     "metadata": {},
     "output_type": "execute_result"
    }
   ],
   "source": [
    "trends[0]['trends'][0]['name']"
   ]
  },
  {
   "cell_type": "markdown",
   "metadata": {},
   "source": [
    "Now, let's sort trends and visualize which are the most popular in Italy at the moment, and the tweet volume for each of them"
   ]
  },
  {
   "cell_type": "code",
   "execution_count": 41,
   "metadata": {},
   "outputs": [
    {
     "data": {
      "image/png": "[encoded data removed]",
      "text/plain": [
       "<Figure size 432x576 with 1 Axes>"
      ]
     },
     "metadata": {},
     "output_type": "display_data"
    }
   ],
   "source": [
    "columns = ['Trend', 'Tweet_Volume']\n",
    "\n",
    "data = []\n",
    "\n",
    "for t in trends:\n",
    "    for trend in t['trends']:\n",
    "        data.append([trend['name'], trend['tweet_volume']])\n",
    "\n",
    "trends_df = pd.DataFrame(data, columns=columns)\n",
    "trends_df.dropna(inplace=True)\n",
    "\n",
    "trends_df = trends_df.sort_values('Tweet_Volume',ascending=False)\n",
    "\n",
    "# Initialize the matplotlib figure\n",
    "f, ax = plt.subplots(figsize=(6, 8))\n",
    "\n",
    "# Plot the tweet volume for each trend\n",
    "sns.set_color_codes('pastel')\n",
    "sns.barplot(x='Tweet_Volume', y='Trend', data=trends_df, palette=\"Blues_d\", label='Tweet Volume')\n",
    "\n",
    "# Add a legend and informative axis label\n",
    "ax.legend(ncol=1, loc='lower right', frameon=True)\n",
    "ax.set(ylabel='Trend', xlabel=(str('Twitter Trends in '+loc)))\n",
    "sns.despine(left=True, bottom=True)\n"
   ]
  },
  {
   "cell_type": "markdown",
   "metadata": {},
   "source": [
    "## 6. Getting past tweet limit using Cursor  \n",
    "\n",
    "Remember that Twitter API allows to download only 100/200 tweets at a time: what if we wanted more?\n",
    "If you want to search for, say, the last 1000 tweets from a user, you need a [Cursor](https://docs.tweepy.org/en/stable/api.html) to iterate through searching results. \n",
    "The tweet rate limit here is:\n",
    "* 1500 every 15 minutes for user tweets;\n",
    "* 3200 every 15 minutes for keywords/hashtag search.\n"
   ]
  },
  {
   "cell_type": "code",
   "execution_count": 42,
   "metadata": {},
   "outputs": [
    {
     "data": {
      "text/html": [
       "<div>\n",
       "<style scoped>\n",
       "    .dataframe tbody tr th:only-of-type {\n",
       "        vertical-align: middle;\n",
       "    }\n",
       "\n",
       "    .dataframe tbody tr th {\n",
       "        vertical-align: top;\n",
       "    }\n",
       "\n",
       "    .dataframe thead th {\n",
       "        text-align: right;\n",
       "    }\n",
       "</style>\n",
       "<table border=\"1\" class=\"dataframe\">\n",
       "  <thead>\n",
       "    <tr style=\"text-align: right;\">\n",
       "      <th></th>\n",
       "      <th>User</th>\n",
       "      <th>Tweet</th>\n",
       "      <th>Date_Posted</th>\n",
       "      <th>Favourite_Count</th>\n",
       "      <th>Retweet_Count</th>\n",
       "      <th>Reply_To</th>\n",
       "    </tr>\n",
       "  </thead>\n",
       "  <tbody>\n",
       "    <tr>\n",
       "      <th>0</th>\n",
       "      <td>POTUS</td>\n",
       "      <td>I made clear that Russia would pay a severe an...</td>\n",
       "      <td>2022-04-06 14:40:24+00:00</td>\n",
       "      <td>1529</td>\n",
       "      <td>374</td>\n",
       "      <td>None</td>\n",
       "    </tr>\n",
       "    <tr>\n",
       "      <th>1</th>\n",
       "      <td>POTUS</td>\n",
       "      <td>Today, my Administration is extending the paus...</td>\n",
       "      <td>2022-04-06 14:02:25+00:00</td>\n",
       "      <td>6442</td>\n",
       "      <td>1153</td>\n",
       "      <td>None</td>\n",
       "    </tr>\n",
       "    <tr>\n",
       "      <th>2</th>\n",
       "      <td>POTUS</td>\n",
       "      <td>Twelve years ago, I had the honor of being gif...</td>\n",
       "      <td>2022-04-06 00:08:36+00:00</td>\n",
       "      <td>21409</td>\n",
       "      <td>2561</td>\n",
       "      <td>None</td>\n",
       "    </tr>\n",
       "    <tr>\n",
       "      <th>3</th>\n",
       "      <td>POTUS</td>\n",
       "      <td>Once today’s proposed rule is finalized, start...</td>\n",
       "      <td>2022-04-05 23:20:27+00:00</td>\n",
       "      <td>4224</td>\n",
       "      <td>624</td>\n",
       "      <td>POTUS</td>\n",
       "    </tr>\n",
       "    <tr>\n",
       "      <th>4</th>\n",
       "      <td>POTUS</td>\n",
       "      <td>Here's the problem: Under the current rules, a...</td>\n",
       "      <td>2022-04-05 23:20:27+00:00</td>\n",
       "      <td>4868</td>\n",
       "      <td>665</td>\n",
       "      <td>POTUS</td>\n",
       "    </tr>\n",
       "    <tr>\n",
       "      <th>...</th>\n",
       "      <td>...</td>\n",
       "      <td>...</td>\n",
       "      <td>...</td>\n",
       "      <td>...</td>\n",
       "      <td>...</td>\n",
       "      <td>...</td>\n",
       "    </tr>\n",
       "    <tr>\n",
       "      <th>995</th>\n",
       "      <td>POTUS</td>\n",
       "      <td>I’m meeting with President Xi of the People’s ...</td>\n",
       "      <td>2021-11-16 02:16:23+00:00</td>\n",
       "      <td>27128</td>\n",
       "      <td>3219</td>\n",
       "      <td>None</td>\n",
       "    </tr>\n",
       "    <tr>\n",
       "      <th>996</th>\n",
       "      <td>POTUS</td>\n",
       "      <td>Access to high-speed internet is as essential ...</td>\n",
       "      <td>2021-11-16 00:05:06+00:00</td>\n",
       "      <td>13864</td>\n",
       "      <td>2222</td>\n",
       "      <td>None</td>\n",
       "    </tr>\n",
       "    <tr>\n",
       "      <th>997</th>\n",
       "      <td>POTUS</td>\n",
       "      <td>Here in Washington, we’ve heard countless spee...</td>\n",
       "      <td>2021-11-15 23:25:20+00:00</td>\n",
       "      <td>16816</td>\n",
       "      <td>2936</td>\n",
       "      <td>None</td>\n",
       "    </tr>\n",
       "    <tr>\n",
       "      <th>998</th>\n",
       "      <td>POTUS</td>\n",
       "      <td>The Bipartisan Infrastructure Law is a blue-co...</td>\n",
       "      <td>2021-11-15 23:17:12+00:00</td>\n",
       "      <td>9873</td>\n",
       "      <td>1473</td>\n",
       "      <td>None</td>\n",
       "    </tr>\n",
       "    <tr>\n",
       "      <th>999</th>\n",
       "      <td>POTUS</td>\n",
       "      <td>To everyone who helped make today’s historic i...</td>\n",
       "      <td>2021-11-15 22:36:16+00:00</td>\n",
       "      <td>16340</td>\n",
       "      <td>2450</td>\n",
       "      <td>None</td>\n",
       "    </tr>\n",
       "  </tbody>\n",
       "</table>\n",
       "<p>1000 rows × 6 columns</p>\n",
       "</div>"
      ],
      "text/plain": [
       "      User                                              Tweet  \\\n",
       "0    POTUS  I made clear that Russia would pay a severe an...   \n",
       "1    POTUS  Today, my Administration is extending the paus...   \n",
       "2    POTUS  Twelve years ago, I had the honor of being gif...   \n",
       "3    POTUS  Once today’s proposed rule is finalized, start...   \n",
       "4    POTUS  Here's the problem: Under the current rules, a...   \n",
       "..     ...                                                ...   \n",
       "995  POTUS  I’m meeting with President Xi of the People’s ...   \n",
       "996  POTUS  Access to high-speed internet is as essential ...   \n",
       "997  POTUS  Here in Washington, we’ve heard countless spee...   \n",
       "998  POTUS  The Bipartisan Infrastructure Law is a blue-co...   \n",
       "999  POTUS  To everyone who helped make today’s historic i...   \n",
       "\n",
       "                  Date_Posted  Favourite_Count  Retweet_Count Reply_To  \n",
       "0   2022-04-06 14:40:24+00:00             1529            374     None  \n",
       "1   2022-04-06 14:02:25+00:00             6442           1153     None  \n",
       "2   2022-04-06 00:08:36+00:00            21409           2561     None  \n",
       "3   2022-04-05 23:20:27+00:00             4224            624    POTUS  \n",
       "4   2022-04-05 23:20:27+00:00             4868            665    POTUS  \n",
       "..                        ...              ...            ...      ...  \n",
       "995 2021-11-16 02:16:23+00:00            27128           3219     None  \n",
       "996 2021-11-16 00:05:06+00:00            13864           2222     None  \n",
       "997 2021-11-15 23:25:20+00:00            16816           2936     None  \n",
       "998 2021-11-15 23:17:12+00:00             9873           1473     None  \n",
       "999 2021-11-15 22:36:16+00:00            16340           2450     None  \n",
       "\n",
       "[1000 rows x 6 columns]"
      ]
     },
     "execution_count": 42,
     "metadata": {},
     "output_type": "execute_result"
    }
   ],
   "source": [
    "\n",
    "user = 'POTUS'\n",
    "lim = 1000\n",
    "\n",
    "tweets = tweepy.Cursor(api.user_timeline, screen_name=user, tweet_mode='extended').items(lim)\n",
    "\n",
    "columns = ['User', 'Tweet', 'Date_Posted', 'Favourite_Count', 'Retweet_Count', 'Reply_To']\n",
    "\n",
    "data = []\n",
    "\n",
    "for tweet in tweets:\n",
    "    data.append([tweet.user.screen_name, tweet.full_text, tweet.created_at, tweet.favorite_count, tweet.retweet_count, tweet.in_reply_to_screen_name])\n",
    "\n",
    "user_tweets_df = pd.DataFrame(data, columns=columns)\n",
    "\n",
    "user_tweets_df"
   ]
  }
 ],
 "metadata": {
  "interpreter": {
   "hash": "965104f1edf7c4e5421268b5d37993f2ff4c909c062cee112af76de1d2eec7da"
  },
  "kernelspec": {
   "display_name": "Python 3.9.7 64-bit",
   "language": "python",
   "name": "python3"
  },
  "language_info": {
   "codemirror_mode": {
    "name": "ipython",
    "version": 3
   },
   "file_extension": ".py",
   "mimetype": "text/x-python",
   "name": "python",
   "nbconvert_exporter": "python",
   "pygments_lexer": "ipython3",
   "version": "3.9.7"
  },
  "orig_nbformat": 4
 },
 "nbformat": 4,
 "nbformat_minor": 2
}
